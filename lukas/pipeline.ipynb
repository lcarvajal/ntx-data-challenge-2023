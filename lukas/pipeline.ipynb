{
 "cells": [
  {
   "cell_type": "code",
   "execution_count": 6,
   "metadata": {},
   "outputs": [
    {
     "name": "stdout",
     "output_type": "stream",
     "text": [
      "\u001b[33mDEPRECATION: Configuring installation scheme with distutils config files is deprecated and will no longer work in the near future. If you are using a Homebrew or Linuxbrew Python, please see discussion at https://github.com/Homebrew/homebrew-core/issues/76621\u001b[0m\u001b[33m\n",
      "\u001b[0mRequirement already satisfied: mne in /opt/homebrew/lib/python3.9/site-packages (1.6.0)\n",
      "Requirement already satisfied: numpy>=1.21.2 in /Users/lukascarvajal/Library/Python/3.9/lib/python/site-packages (from mne) (1.25.2)\n",
      "Requirement already satisfied: scipy>=1.7.1 in /Users/lukascarvajal/Library/Python/3.9/lib/python/site-packages (from mne) (1.11.2)\n",
      "Requirement already satisfied: matplotlib>=3.5.0 in /opt/homebrew/lib/python3.9/site-packages (from mne) (3.8.2)\n",
      "Requirement already satisfied: tqdm in /Users/lukascarvajal/Library/Python/3.9/lib/python/site-packages (from mne) (4.66.1)\n",
      "Requirement already satisfied: pooch>=1.5 in /opt/homebrew/lib/python3.9/site-packages (from mne) (1.8.0)\n",
      "Requirement already satisfied: decorator in /Users/lukascarvajal/Library/Python/3.9/lib/python/site-packages (from mne) (5.1.1)\n",
      "Requirement already satisfied: packaging in /Users/lukascarvajal/Library/Python/3.9/lib/python/site-packages (from mne) (23.1)\n",
      "Requirement already satisfied: jinja2 in /Users/lukascarvajal/Library/Python/3.9/lib/python/site-packages (from mne) (3.1.2)\n",
      "Requirement already satisfied: lazy-loader>=0.3 in /opt/homebrew/lib/python3.9/site-packages (from mne) (0.3)\n",
      "Requirement already satisfied: defusedxml in /Users/lukascarvajal/Library/Python/3.9/lib/python/site-packages (from mne) (0.7.1)\n",
      "Requirement already satisfied: contourpy>=1.0.1 in /opt/homebrew/lib/python3.9/site-packages (from matplotlib>=3.5.0->mne) (1.2.0)\n",
      "Requirement already satisfied: cycler>=0.10 in /opt/homebrew/lib/python3.9/site-packages (from matplotlib>=3.5.0->mne) (0.12.1)\n",
      "Requirement already satisfied: fonttools>=4.22.0 in /opt/homebrew/lib/python3.9/site-packages (from matplotlib>=3.5.0->mne) (4.46.0)\n",
      "Requirement already satisfied: kiwisolver>=1.3.1 in /opt/homebrew/lib/python3.9/site-packages (from matplotlib>=3.5.0->mne) (1.4.5)\n",
      "Requirement already satisfied: pillow>=8 in /Users/lukascarvajal/Library/Python/3.9/lib/python/site-packages (from matplotlib>=3.5.0->mne) (10.0.0)\n",
      "Requirement already satisfied: pyparsing>=2.3.1 in /opt/homebrew/lib/python3.9/site-packages (from matplotlib>=3.5.0->mne) (3.1.1)\n",
      "Requirement already satisfied: python-dateutil>=2.7 in /Users/lukascarvajal/Library/Python/3.9/lib/python/site-packages (from matplotlib>=3.5.0->mne) (2.8.2)\n",
      "Requirement already satisfied: importlib-resources>=3.2.0 in /opt/homebrew/lib/python3.9/site-packages (from matplotlib>=3.5.0->mne) (6.1.1)\n",
      "Requirement already satisfied: platformdirs>=2.5.0 in /Users/lukascarvajal/Library/Python/3.9/lib/python/site-packages (from pooch>=1.5->mne) (3.10.0)\n",
      "Requirement already satisfied: requests>=2.19.0 in /Users/lukascarvajal/Library/Python/3.9/lib/python/site-packages (from pooch>=1.5->mne) (2.31.0)\n",
      "Requirement already satisfied: MarkupSafe>=2.0 in /Users/lukascarvajal/Library/Python/3.9/lib/python/site-packages (from jinja2->mne) (2.1.3)\n",
      "Requirement already satisfied: zipp>=3.1.0 in /Users/lukascarvajal/Library/Python/3.9/lib/python/site-packages (from importlib-resources>=3.2.0->matplotlib>=3.5.0->mne) (3.16.2)\n",
      "Requirement already satisfied: six>=1.5 in /Users/lukascarvajal/Library/Python/3.9/lib/python/site-packages (from python-dateutil>=2.7->matplotlib>=3.5.0->mne) (1.16.0)\n",
      "Requirement already satisfied: charset-normalizer<4,>=2 in /Users/lukascarvajal/Library/Python/3.9/lib/python/site-packages (from requests>=2.19.0->pooch>=1.5->mne) (3.2.0)\n",
      "Requirement already satisfied: idna<4,>=2.5 in /Users/lukascarvajal/Library/Python/3.9/lib/python/site-packages (from requests>=2.19.0->pooch>=1.5->mne) (3.4)\n",
      "Requirement already satisfied: urllib3<3,>=1.21.1 in /Users/lukascarvajal/Library/Python/3.9/lib/python/site-packages (from requests>=2.19.0->pooch>=1.5->mne) (1.26.6)\n",
      "Requirement already satisfied: certifi>=2017.4.17 in /Users/lukascarvajal/Library/Python/3.9/lib/python/site-packages (from requests>=2.19.0->pooch>=1.5->mne) (2023.7.22)\n",
      "\u001b[33mDEPRECATION: Configuring installation scheme with distutils config files is deprecated and will no longer work in the near future. If you are using a Homebrew or Linuxbrew Python, please see discussion at https://github.com/Homebrew/homebrew-core/issues/76621\u001b[0m\u001b[33m\n",
      "\u001b[0m"
     ]
    }
   ],
   "source": [
    "# First, install MNE\n",
    "!pip install mne"
   ]
  },
  {
   "cell_type": "markdown",
   "metadata": {},
   "source": [
    "# Load Data"
   ]
  },
  {
   "cell_type": "code",
   "execution_count": 7,
   "metadata": {},
   "outputs": [
    {
     "name": "stdout",
     "output_type": "stream",
     "text": [
      "Creating RawArray with float64 data, n_channels=1, n_times=4965399\n",
      "    Range : 0 ... 4965398 =      0.000 ... 19861.592 secs\n",
      "Ready.\n"
     ]
    }
   ],
   "source": [
    "import mne\n",
    "import os\n",
    "from scipy.io import loadmat\n",
    "\n",
    "# Available files\n",
    "# 'train_S002_night1_hackathon_raw.mat'\n",
    "# 'train_S003_night5_hackathon_raw.mat'\n",
    "# 'test_S004_night3_hackathon_raw.mat'\n",
    "\n",
    "mat_file_path = '../dataset_phase1_ntx23/' + 'train_S002_night1_hackathon_raw.mat'\n",
    "\n",
    "# Load the .mat file using scipy\n",
    "mat = loadmat(mat_file_path)\n",
    "\n",
    "# Extract EEG data\n",
    "eeg_data = mat['EEG'][0, 0]['data']\n",
    "\n",
    "# Create an MNE Info object, necessary to create RawArray\n",
    "info = mne.create_info(ch_names=['EEG1'], sfreq=250, ch_types=['eeg'])\n",
    "\n",
    "# Create the RawArray object\n",
    "raw = mne.io.RawArray(eeg_data, info)"
   ]
  },
  {
   "cell_type": "markdown",
   "metadata": {},
   "source": [
    "# Training and Testing Data Prep"
   ]
  },
  {
   "cell_type": "code",
   "execution_count": null,
   "metadata": {},
   "outputs": [],
   "source": []
  },
  {
   "cell_type": "markdown",
   "metadata": {},
   "source": [
    "# Preprocessing\n",
    "\n",
    "Example preprocessing techniques:\n",
    "- maxwell filtering \n",
    "- signal-space projection\n",
    "- independent components analysis\n",
    "- filtering\n",
    "- downsampling\n",
    "- etc...\n",
    "\n",
    "Full list of **preprocessing techniques** is [here](https://mne.tools/stable/api/preprocessing.html#module-mne.preprocessing).\n",
    "Full list of **filters** is [here](https://mne.tools/stable/api/preprocessing.html#module-mne.filter).\n",
    "\n"
   ]
  },
  {
   "cell_type": "code",
   "execution_count": 9,
   "metadata": {},
   "outputs": [],
   "source": [
    "# Create preprocessing object\n",
    "# Code goes here...\n",
    "\n",
    "# Make a copy of the original raw data to compare processed data to original\n",
    "# orig_raw = raw.copy()\n",
    "# raw.load_data()\n",
    "# <processing object>.apply(raw)\n",
    "\n",
    "# Compare original to applied data\n",
    "# chan_idxs = [raw.ch_names.index(ch) for ch in chs]\n",
    "# orig_raw.plot(order=chan_idxs, start=12, duration=4)\n",
    "# raw.plot(order=chan_idxs, start=12, duration=4)"
   ]
  },
  {
   "cell_type": "markdown",
   "metadata": {},
   "source": [
    "# Model Training"
   ]
  },
  {
   "cell_type": "code",
   "execution_count": null,
   "metadata": {},
   "outputs": [],
   "source": []
  },
  {
   "cell_type": "markdown",
   "metadata": {},
   "source": [
    "# Model Evaluation"
   ]
  },
  {
   "cell_type": "code",
   "execution_count": null,
   "metadata": {},
   "outputs": [],
   "source": []
  }
 ],
 "metadata": {
  "kernelspec": {
   "display_name": "Python 3",
   "language": "python",
   "name": "python3"
  },
  "language_info": {
   "codemirror_mode": {
    "name": "ipython",
    "version": 3
   },
   "file_extension": ".py",
   "mimetype": "text/x-python",
   "name": "python",
   "nbconvert_exporter": "python",
   "pygments_lexer": "ipython3",
   "version": "3.9.7"
  }
 },
 "nbformat": 4,
 "nbformat_minor": 2
}
